{
 "cells": [
  {
   "cell_type": "code",
   "execution_count": null,
   "id": "9332611f",
   "metadata": {},
   "outputs": [],
   "source": [
    "# Import all utility functions\n",
    "from utility import *"
   ]
  },
  {
   "cell_type": "markdown",
   "id": "34d716b6",
   "metadata": {},
   "source": [
    "### Uniform/Linear Data: Dynamics of at and qt and Delta\n",
    "\n",
    "\n",
    "Cost matrix is different"
   ]
  },
  {
   "cell_type": "code",
   "execution_count": null,
   "id": "72337589",
   "metadata": {},
   "outputs": [],
   "source": [
    "n = 50\n",
    "T = 15\n",
    "N = 2000\n",
    "alpha = 0.5\n",
    "tp=0\n",
    "r=1\n",
    "mag=0.1"
   ]
  },
  {
   "cell_type": "markdown",
   "id": "d6bb2fe5",
   "metadata": {},
   "source": [
    "Fix r = 0.1, mag = 0.1, when one Q is not symmetric through dimension:"
   ]
  },
  {
   "cell_type": "code",
   "execution_count": null,
   "id": "2caa161d",
   "metadata": {},
   "outputs": [],
   "source": [
    "Q = np.array([[3,0],[0,6]])"
   ]
  },
  {
   "cell_type": "markdown",
   "id": "fa38e7a4",
   "metadata": {},
   "source": [
    "Group $i$"
   ]
  },
  {
   "cell_type": "code",
   "execution_count": null,
   "id": "db97bc3f",
   "metadata": {
    "scrolled": true
   },
   "outputs": [],
   "source": [
    "# ratio = 0.1\n",
    "np.random.seed(42)\n",
    "r = 0.1\n",
    "bias = 'up'\n",
    "mag = 0.1\n",
    "des = f\"Uniform_Qvary_{bias}\"\n",
    "At, Qt, At_sd, Qt_sd = simulation(Q,N,n,T,alpha,tp=0,sd=True)\n",
    "plot_save_single(At, Qt, des, True)\n",
    "plot_save_single_err(At, Qt, At_sd, Qt_sd, des, True)"
   ]
  },
  {
   "cell_type": "markdown",
   "id": "190f60e9",
   "metadata": {},
   "source": [
    "Group j"
   ]
  },
  {
   "cell_type": "code",
   "execution_count": null,
   "id": "912725e5",
   "metadata": {
    "scrolled": true
   },
   "outputs": [],
   "source": [
    "np.random.seed(42)\n",
    "r = 0.1\n",
    "bias = 'down'\n",
    "mag = 0.1\n",
    "des = f\"Uniform_Qvary_{bias}\"\n",
    "At, Qt, At_sd, Qt_sd = simulation(Q,N,n,T,alpha,bias,tp=0,sd=True)\n",
    "plot_save_single(At, Qt, des, True)\n",
    "plot_save_single_err(At, Qt, At_sd, Qt_sd, des, True)"
   ]
  },
  {
   "cell_type": "markdown",
   "id": "34234a4a",
   "metadata": {},
   "source": [
    "Sampler"
   ]
  },
  {
   "cell_type": "code",
   "execution_count": null,
   "id": "684e1619",
   "metadata": {
    "scrolled": true
   },
   "outputs": [],
   "source": [
    "np.random.seed(42)\n",
    "r = 0.1\n",
    "bias = 'up'\n",
    "mag = 0.1\n",
    "des = f\"Uniform_Qvary_sampler_{bias}\"\n",
    "At, Qt, At_sd, Qt_sd = simulation(Q,N,n,T,alpha,bias,ratio = r,sd=True, refined = True)\n",
    "plot_save_single(At, Qt, des,True)\n",
    "plot_save_single_err(At, Qt, At_sd, Qt_sd, des,True)"
   ]
  },
  {
   "cell_type": "markdown",
   "id": "493d5576",
   "metadata": {},
   "source": [
    "Fairness"
   ]
  },
  {
   "cell_type": "code",
   "execution_count": null,
   "id": "fb55dcee",
   "metadata": {
    "scrolled": true
   },
   "outputs": [],
   "source": [
    "# ratio = 0.1\n",
    "# read i\n",
    "bias = 'up'\n",
    "mag = 0.1\n",
    "des = f\"Uniform_Qvary_sampler_{bias}\"\n",
    "Ati_mean, Qti_mean, Ati_sd, Qti_sd = read_results(des)\n",
    "    \n",
    "# read j\n",
    "bias = 'down'\n",
    "mag = 0.1\n",
    "des = f\"Uniform_Qvary_{bias}\"\n",
    "Atj_mean, Qtj_mean, Atj_sd, Qtj_sd = read_results(des)\n",
    "    \n",
    "\n",
    "# Plot\n",
    "des = f\"Uniform_Qvary\"\n",
    "plot_save_fairness(Ati_mean, Atj_mean, Qti_mean, Qtj_mean, des, True)\n",
    "plot_save_fairness_err(Ati_mean, Atj_mean, Qti_mean, Qtj_mean, Ati_sd, Qti_sd, Atj_sd, Qtj_sd, des, True)"
   ]
  },
  {
   "cell_type": "markdown",
   "id": "905d2cc6",
   "metadata": {},
   "source": [
    "### Gaussian"
   ]
  },
  {
   "cell_type": "code",
   "execution_count": null,
   "id": "2573e132",
   "metadata": {
    "scrolled": true
   },
   "outputs": [],
   "source": [
    "# ratio = 0.1\n",
    "np.random.seed(42)\n",
    "r = 0.1\n",
    "bias = 'up'\n",
    "mag = 0.1\n",
    "des = f\"Gaussian_Qvary_{bias}\"\n",
    "At, Qt, At_sd, Qt_sd = simulation(Q,N,n,T,alpha,tp=1,sd=True)\n",
    "plot_save_single(At, Qt, des,True)\n",
    "plot_save_single_err(At, Qt, At_sd, Qt_sd, des,True)"
   ]
  },
  {
   "cell_type": "code",
   "execution_count": null,
   "id": "ed43e00c",
   "metadata": {
    "scrolled": true
   },
   "outputs": [],
   "source": [
    "# ratio = 0.1\n",
    "np.random.seed(42)\n",
    "r = 0.1\n",
    "bias = 'down'\n",
    "mag = 0.1\n",
    "des = f\"Gaussian_Qvary_{bias}\"\n",
    "At, Qt, At_sd, Qt_sd = simulation(Q,N,n,T,alpha,bias,tp=1,sd=True)\n",
    "plot_save_single(At, Qt, des,True)\n",
    "plot_save_single_err(At, Qt, At_sd, Qt_sd, des,True)"
   ]
  },
  {
   "cell_type": "code",
   "execution_count": null,
   "id": "0e78a304",
   "metadata": {
    "scrolled": true
   },
   "outputs": [],
   "source": [
    "np.random.seed(42)\n",
    "r = 0.1\n",
    "bias = 'up'\n",
    "mag = 0.1\n",
    "des = f\"Gaussian_sampler_{bias}\"\n",
    "At, Qt, At_sd, Qt_sd = simulation(Q,N,n,T,alpha,bias,tp=1,ratio = r,sd=True, refined = True)\n",
    "plot_save_single(At, Qt, des,True)\n",
    "plot_save_single_err(At, Qt, At_sd, Qt_sd, des,True)"
   ]
  },
  {
   "cell_type": "code",
   "execution_count": null,
   "id": "59148cc0",
   "metadata": {
    "scrolled": true
   },
   "outputs": [],
   "source": [
    "# ratio = 0.1\n",
    "# read i\n",
    "bias = 'up'\n",
    "mag = 0.1\n",
    "des = f\"Gaussian_sampler_{bias}\"\n",
    "Ati_mean, Qti_mean, Ati_sd, Qti_sd = read_results(des)\n",
    "    \n",
    "# read j\n",
    "bias = 'down'\n",
    "mag = 0.1\n",
    "des = f\"Gaussian_Qvary_{bias}\"\n",
    "Atj_mean, Qtj_mean, Atj_sd, Qtj_sd = read_results(des)\n",
    "    \n",
    "\n",
    "# Plot\n",
    "des = f\"Gaussian_Qvary\"\n",
    "plot_save_fairness(Ati_mean, Atj_mean, Qti_mean, Qtj_mean, des, True)\n",
    "plot_save_fairness_err(Ati_mean, Atj_mean, Qti_mean, Qtj_mean, Ati_sd, Qti_sd, Atj_sd, Qtj_sd, des, True)"
   ]
  }
 ],
 "metadata": {
  "kernelspec": {
   "display_name": "Python 3 (ipykernel)",
   "language": "python",
   "name": "python3"
  },
  "language_info": {
   "codemirror_mode": {
    "name": "ipython",
    "version": 3
   },
   "file_extension": ".py",
   "mimetype": "text/x-python",
   "name": "python",
   "nbconvert_exporter": "python",
   "pygments_lexer": "ipython3",
   "version": "3.9.13"
  }
 },
 "nbformat": 4,
 "nbformat_minor": 5
}
