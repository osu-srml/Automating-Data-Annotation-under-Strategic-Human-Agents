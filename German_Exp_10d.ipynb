{
 "cells": [
  {
   "cell_type": "code",
   "execution_count": 1,
   "id": "9332611f",
   "metadata": {},
   "outputs": [],
   "source": [
    "# Import all utility functions\n",
    "from utility import *\n",
    "from sklearn.neighbors import KernelDensity\n",
    "# whether or not enforce the monotonic likelihood assumption to P_Y|X\n",
    "monotone = False"
   ]
  },
  {
   "cell_type": "markdown",
   "id": "feea9aa3",
   "metadata": {},
   "source": [
    "### Read and process data\n",
    "\n",
    "- Build kde estimator for all features and Learn P(y|x) using all features\n",
    "- generate y using P(y|x)\n"
   ]
  },
  {
   "cell_type": "code",
   "execution_count": 2,
   "id": "f840d453",
   "metadata": {},
   "outputs": [],
   "source": [
    "df = pd.read_csv('index.csv')\n",
    "df = df[['Sex & Marital Status','Creditability','Instalment per cent','Length of current employment','Value Savings/Stocks',\n",
    "        'Account Balance', 'Duration of Credit (month)',\n",
    "       'Payment Status of Previous Credit', 'Purpose', 'Credit Amount','Guarantors',\n",
    "       'Duration in Current address', 'Most valuable available asset',\n",
    "       'Age (years)', 'Concurrent Credits', 'Type of apartment',\n",
    "       'No of Credits at this Bank', 'Occupation', 'No of dependents',\n",
    "       'Telephone', 'Foreign Worker']]\n",
    "df.columns = ['b','y','x1','x2','x3'] + [f\"x{i}\" for i in range(4,20)]\n",
    "\n",
    "\n",
    "from sklearn.preprocessing import StandardScaler\n",
    "scaler = StandardScaler()\n",
    "\n",
    "for col in df.columns[2:]:\n",
    "    scaler.fit(df[col].to_numpy().reshape(-1, 1))\n",
    "    x_new = scaler.transform(df[col].to_numpy().reshape(-1, 1)).reshape(-1)\n",
    "    df[col] = x_new\n",
    "\n",
    "\n",
    "# learn P(y|x) as ground truth\n",
    "X = df[[i for i in df.columns if i not in ['b','y']]]\n",
    "clf = SGDClassifier(loss = 'log_loss', max_iter=10000, tol=1e-6, penalty = 'l2',random_state=42)\n",
    "y = df[['y']]\n",
    "clf.fit(X,y)\n",
    "df['y']=clf.predict(X)\n",
    "\n",
    "# possibly enforce monotonic likelihood\n",
    "idx = np.where(clf.coef_[0]<0)[0]\n",
    "if monotone:\n",
    "    for i in idx:\n",
    "        df[f'x{i+1}'] = -df[f'x{i+1}']"
   ]
  },
  {
   "cell_type": "code",
   "execution_count": 3,
   "id": "d7d55f06",
   "metadata": {},
   "outputs": [],
   "source": [
    "# Build kde for male, female and X1 to X3\n",
    "df_m = df[(df['b'] == 1) | (df['b'] == 3)| (df['b'] == 4)]\n",
    "df_f = df[(df['b'] == 2) | (df['b'] == 5)]\n",
    "X = df_m[[f\"x{i}\" for i in range(1,20)]]\n",
    "kde_a = KernelDensity(kernel='gaussian').fit(X)\n",
    "X = df_f[[f\"x{i}\" for i in range(1,20)]]\n",
    "kde_b = KernelDensity(kernel='gaussian').fit(X)"
   ]
  },
  {
   "cell_type": "code",
   "execution_count": null,
   "id": "ec5654ec",
   "metadata": {},
   "outputs": [],
   "source": [
    "# Under the semi synthetic environment, what is the qualification rates of both groups?\n",
    "N=10000\n",
    "x,y,x_full = generate_true_examples_K(N, clf, kde_a)\n",
    "print('qualification rate of group a:', y.mean())\n",
    "x,y,x_full = generate_true_examples_K(N, clf, kde_b)\n",
    "print('qualification rate of group b:', y.mean())"
   ]
  },
  {
   "cell_type": "markdown",
   "id": "8a2dc590",
   "metadata": {},
   "source": [
    "### Experiment begins\n",
    "\n",
    "- Note: It may take a long time to run 100 trials, to see qualitative results can instead run 50 trials.\n",
    "- Note: slight quantitative differences may exist because different versions of sklearn implement logistic classifier differently, but the qualitative results should remain same."
   ]
  },
  {
   "cell_type": "code",
   "execution_count": 5,
   "id": "72337589",
   "metadata": {},
   "outputs": [],
   "source": [
    "n = 50\n",
    "alpha = 0.5\n",
    "T = 15\n",
    "Q = np.diag(5*np.ones(10))\n",
    "N = 2000\n",
    "tp = 3"
   ]
  },
  {
   "cell_type": "markdown",
   "id": "fa38e7a4",
   "metadata": {},
   "source": [
    "Group $i$"
   ]
  },
  {
   "cell_type": "code",
   "execution_count": null,
   "id": "db97bc3f",
   "metadata": {
    "scrolled": true
   },
   "outputs": [],
   "source": [
    "# ratio = 0.1\n",
    "np.random.seed(42)\n",
    "r = 0.1\n",
    "bias = 'up'\n",
    "mag = 0.06\n",
    "des = f\"3D_setting_ratio{r}_bias{bias}_mag{mag}\"\n",
    "At, Qt, At_sd, Qt_sd = simulation(Q,N,n,T,alpha,bias,mag,tp,r,sd=True,kde_x=kde_a,clf=clf)\n",
    "plot_save_single(At, Qt, des)\n",
    "plot_save_single_err(At, Qt, At_sd, Qt_sd, des, save=True, small=True)"
   ]
  },
  {
   "cell_type": "code",
   "execution_count": null,
   "id": "8a3dd9d3",
   "metadata": {
    "scrolled": true
   },
   "outputs": [],
   "source": [
    "# ratio = 0.05\n",
    "np.random.seed(42)\n",
    "r = 0.05\n",
    "bias = 'up'\n",
    "mag = 0.06\n",
    "des = f\"3D_setting_ratio{r}_bias{bias}_mag{mag}\"\n",
    "At, Qt, At_sd, Qt_sd = simulation(Q,N,n,T,alpha,bias,mag,tp,r,sd=True,kde_x=kde_a,clf=clf)\n",
    "plot_save_single(At, Qt, des, save=False)\n",
    "plot_save_single_err(At, Qt, At_sd, Qt_sd, des, save=False, small=True)"
   ]
  },
  {
   "cell_type": "code",
   "execution_count": null,
   "id": "ac9d9dc1",
   "metadata": {
    "scrolled": true
   },
   "outputs": [],
   "source": [
    "# ratio = 0\n",
    "np.random.seed(42)\n",
    "r = 0\n",
    "bias = 'up'\n",
    "mag = 0.06\n",
    "des = f\"3D_setting_ratio{r}_bias{bias}_mag{mag}\"\n",
    "At, Qt, At_sd, Qt_sd = simulation(Q,N,n,T,alpha,bias,mag,tp,r,sd=True,kde_x=kde_a,clf=clf)\n",
    "plot_save_single(At, Qt, des, save=True)\n",
    "plot_save_single_err(At, Qt, At_sd, Qt_sd, des, save=True,small=True)"
   ]
  },
  {
   "cell_type": "code",
   "execution_count": null,
   "id": "fadbc334",
   "metadata": {
    "scrolled": true
   },
   "outputs": [],
   "source": [
    "#infinite horizon to verify the limit\n",
    "np.random.seed(42)\n",
    "T = 50\n",
    "r = 0\n",
    "bias = 'up'\n",
    "mag = 0.06\n",
    "des = f\"infinite_3D_setting_ratio{r}_bias{bias}_mag{mag}\"\n",
    "At, Qt, At_sd, Qt_sd = simulation(Q,N,n,T,alpha,bias,mag,tp,r,sd=True,kde_x=kde_a,clf=clf)\n",
    "plot_save_single(At, Qt, des,save=True,limit=True)\n",
    "plot_save_single_err(At, Qt, At_sd, Qt_sd, des,save=True,limit=True, small=True)"
   ]
  },
  {
   "cell_type": "markdown",
   "id": "e15767c8",
   "metadata": {},
   "source": [
    "Group $j$"
   ]
  },
  {
   "cell_type": "code",
   "execution_count": null,
   "id": "e7f6ee3f",
   "metadata": {
    "scrolled": true
   },
   "outputs": [],
   "source": [
    "np.random.seed(42)\n",
    "r = 0.1\n",
    "bias = 'down'\n",
    "mag = 0.06\n",
    "des = f\"3D_setting_ratio{r}_bias{bias}_mag{mag}\"\n",
    "At, Qt, At_sd, Qt_sd = simulation(Q,N,n,T,alpha,bias,mag,tp,r,sd=True,kde_x=kde_b,clf=clf)\n",
    "plot_save_single(At, Qt, des)\n",
    "plot_save_single_err(At, Qt, At_sd, Qt_sd, des,small=True)"
   ]
  },
  {
   "cell_type": "code",
   "execution_count": null,
   "id": "0400a83a",
   "metadata": {
    "scrolled": true
   },
   "outputs": [],
   "source": [
    "# ratio 0.05\n",
    "np.random.seed(42)\n",
    "r = 0.05\n",
    "bias = 'down'\n",
    "mag = 0.06\n",
    "des = f\"3D_setting_ratio{r}_bias{bias}_mag{0.05}\"\n",
    "At, Qt, At_sd, Qt_sd = simulation(Q,N,n,T,alpha,bias,mag,tp,r,sd=True,kde_x=kde_b,clf=clf)\n",
    "plot_save_single(At, Qt, des,save=True)\n",
    "plot_save_single_err(At, Qt, At_sd, Qt_sd, des, save=True,small=False)"
   ]
  },
  {
   "cell_type": "code",
   "execution_count": null,
   "id": "dff6ba55",
   "metadata": {
    "scrolled": true
   },
   "outputs": [],
   "source": [
    "# ratio 0\n",
    "np.random.seed(42)\n",
    "r = 0\n",
    "bias = 'down'\n",
    "mag = 0.06\n",
    "des = f\"3D_setting_ratio{r}_bias{bias}_mag{mag}\"\n",
    "At, Qt, At_sd, Qt_sd = simulation(Q,N,n,T,alpha,bias,mag,tp,r,sd=True,kde_x=kde_b,clf=clf)\n",
    "plot_save_single(At, Qt, des,save=True)\n",
    "plot_save_single_err(At, Qt, At_sd, Qt_sd, des, save=True,small=True)"
   ]
  },
  {
   "cell_type": "code",
   "execution_count": null,
   "id": "c581e941",
   "metadata": {
    "scrolled": true
   },
   "outputs": [],
   "source": [
    "#infinite horizon to verify the limit\n",
    "np.random.seed(42)\n",
    "r = 0\n",
    "bias = 'down'\n",
    "mag = 0.06\n",
    "des = f\"infinite_3D_setting_ratio{r}_bias{bias}_mag{mag}\"\n",
    "At, Qt, At_sd, Qt_sd = simulation(Q,N,n,T,alpha,bias,mag,tp,r,sd=True,kde_x=kde_b,clf=clf)\n",
    "plot_save_single(At, Qt, des,save=True,limit=True)\n",
    "plot_save_single_err(At, Qt, At_sd, Qt_sd, des,save=True,limit=True, small=True)"
   ]
  },
  {
   "cell_type": "markdown",
   "id": "6ea8d022",
   "metadata": {},
   "source": [
    "Refined retraining process for $i$"
   ]
  },
  {
   "cell_type": "code",
   "execution_count": null,
   "id": "aaa48b00",
   "metadata": {
    "scrolled": true
   },
   "outputs": [],
   "source": [
    "# ratio 0.1\n",
    "np.random.seed(42)\n",
    "r = 0.1\n",
    "bias = 'up'\n",
    "mag = 0.06\n",
    "des = f\"3D_sampler_ratio{r}_bias{bias}_mag{mag}\"\n",
    "At, Qt, At_sd, Qt_sd = simulation(Q,N,n,T,alpha,bias,mag,tp,r,sd=True,refined=True,kde_x=kde_a,clf=clf)\n",
    "plot_save_single(At, Qt, des, save=True)\n",
    "plot_save_single_err(At, Qt, At_sd, Qt_sd, des, save=True,small=True)"
   ]
  },
  {
   "cell_type": "code",
   "execution_count": null,
   "id": "884bccd2",
   "metadata": {
    "scrolled": true
   },
   "outputs": [],
   "source": [
    "# ratio 0.05\n",
    "np.random.seed(42)\n",
    "r = 0.05\n",
    "bias = 'up'\n",
    "mag = 0.06\n",
    "des = f\"3D_sampler_ratio{r}_bias{bias}_mag{mag}\"\n",
    "At, Qt, At_sd, Qt_sd = simulation(Q,N,n,T,alpha,bias,mag,tp,r,sd=True,refined=True,kde_x=kde_a,clf=clf)\n",
    "plot_save_single(At, Qt, des, save=True)\n",
    "plot_save_single_err(At, Qt, At_sd, Qt_sd, des, save=True,small=True)"
   ]
  },
  {
   "cell_type": "code",
   "execution_count": null,
   "id": "848023fc",
   "metadata": {
    "scrolled": true
   },
   "outputs": [],
   "source": [
    "# ratio 0\n",
    "np.random.seed(42)\n",
    "r = 0\n",
    "bias = 'up'\n",
    "mag = 0.06\n",
    "des = f\"3D_sampler_ratio{r}_bias{bias}_mag{mag}\"\n",
    "At, Qt, At_sd, Qt_sd = simulation(Q,N,n,T,alpha,bias,mag,tp,r,sd=True,refined=True,kde_x=kde_a,clf=clf)\n",
    "plot_save_single(At, Qt, des, save=True)\n",
    "plot_save_single_err(At, Qt, At_sd, Qt_sd, des, save=True,small=True)"
   ]
  },
  {
   "cell_type": "markdown",
   "id": "9961e0b8",
   "metadata": {},
   "source": [
    "Refined retraining process for $j$"
   ]
  },
  {
   "cell_type": "code",
   "execution_count": null,
   "id": "123811bf",
   "metadata": {
    "scrolled": true
   },
   "outputs": [],
   "source": [
    "# ratio 0.1\n",
    "np.random.seed(42)\n",
    "r = 0.1\n",
    "bias = 'down'\n",
    "mag = 0.06\n",
    "des = f\"3D_sampler_ratio{r}_bias{bias}_mag{mag}\"\n",
    "At, Qt, At_sd, Qt_sd = simulation(Q,N,n,T,alpha,bias,mag,tp,r,sd=True,refined=True,kde_x=kde_b,clf=clf)\n",
    "plot_save_single(At, Qt, des, save=True)\n",
    "plot_save_single_err(At, Qt, At_sd, Qt_sd, des, save=True,small=True)"
   ]
  },
  {
   "cell_type": "code",
   "execution_count": null,
   "id": "ca9086ed",
   "metadata": {
    "scrolled": true
   },
   "outputs": [],
   "source": [
    "# ratio 0.05\n",
    "np.random.seed(42)\n",
    "r = 0.05\n",
    "bias = 'down'\n",
    "mag = 0.06\n",
    "des = f\"3D_sampler_ratio{r}_bias{bias}_mag{mag}\"\n",
    "At, Qt, At_sd, Qt_sd = simulation(Q,N,n,T,alpha,bias,mag,tp,r,sd=True,refined=True,kde_x=kde_b,clf=clf)\n",
    "plot_save_single(At, Qt, des, save=True)\n",
    "plot_save_single_err(At, Qt, At_sd, Qt_sd, des, save=True,small=True)"
   ]
  },
  {
   "cell_type": "code",
   "execution_count": null,
   "id": "fcbc3445",
   "metadata": {
    "scrolled": true
   },
   "outputs": [],
   "source": [
    "# ratio 0\n",
    "np.random.seed(42)\n",
    "r = 0\n",
    "bias = 'down'\n",
    "mag = 0.06\n",
    "des = f\"3D_sampler_ratio{r}_bias{bias}_mag{mag}\"\n",
    "At, Qt, At_sd, Qt_sd = simulation(Q,N,n,T,alpha,bias,mag,tp,r,sd=True,refined=True,kde_x=kde_b,clf=clf)\n",
    "plot_save_single(At, Qt, des, save=True)\n",
    "plot_save_single_err(At, Qt, At_sd, Qt_sd, des, save=True,small=True)"
   ]
  },
  {
   "cell_type": "markdown",
   "id": "fac0e0b2",
   "metadata": {},
   "source": [
    "Unfairness and bias"
   ]
  },
  {
   "cell_type": "code",
   "execution_count": null,
   "id": "d4d645e9",
   "metadata": {
    "scrolled": true
   },
   "outputs": [],
   "source": [
    "# ratio = 0.1\n",
    "# read i\n",
    "r = 0.1\n",
    "bias = 'up'\n",
    "mag = 0.06\n",
    "des = f\"3D_sampler_ratio{r}_bias{bias}_mag{mag}\"\n",
    "Ati_mean, Qti_mean, Ati_sd, Qti_sd = read_results(des)\n",
    "    \n",
    "# read j\n",
    "r = 0.1\n",
    "bias = 'down'\n",
    "mag = 0.06\n",
    "des = f\"3D_setting_ratio{r}_bias{bias}_mag{mag}\"\n",
    "Atj_mean, Qtj_mean, Atj_sd, Qtj_sd = read_results(des)\n",
    "    \n",
    "\n",
    "# Plot\n",
    "des = f\"3D_ratio{r}_mag{mag}\"\n",
    "plot_save_fairness(Ati_mean, Atj_mean, Qti_mean, Qtj_mean, des, True)\n",
    "plot_save_fairness_err(Ati_mean, Atj_mean, Qti_mean, Qtj_mean, Ati_sd, Qti_sd, Atj_sd, Qtj_sd, des, True)"
   ]
  },
  {
   "cell_type": "code",
   "execution_count": null,
   "id": "a3437fbe",
   "metadata": {
    "scrolled": true
   },
   "outputs": [],
   "source": [
    "# ratio = 0.05\n",
    "# read i\n",
    "r = 0.05\n",
    "bias = 'up'\n",
    "mag = 0.06\n",
    "des = f\"3D_sampler_ratio{r}_bias{bias}_mag{mag}\"\n",
    "Ati_mean, Qti_mean, Ati_sd, Qti_sd = read_results(des)\n",
    "    \n",
    "# read j\n",
    "r = 0.05\n",
    "bias = 'down'\n",
    "mag = 0.06\n",
    "des = f\"3D_setting_ratio{r}_bias{bias}_mag{mag}\"\n",
    "Atj_mean, Qtj_mean, Atj_sd, Qtj_sd = read_results(des)\n",
    "    \n",
    "\n",
    "# Plot\n",
    "des = f\"3D_ratio{r}_mag{mag}\"\n",
    "# plot_save_fairness(Ati_mean, Atj_mean, Qti_mean, Qtj_mean, des, True)\n",
    "plot_save_fairness_err(Ati_mean, Atj_mean, Qti_mean, Qtj_mean, Ati_sd, Qti_sd, Atj_sd, Qtj_sd, des, True)"
   ]
  },
  {
   "cell_type": "code",
   "execution_count": null,
   "id": "1236ede1",
   "metadata": {
    "scrolled": true
   },
   "outputs": [],
   "source": [
    "# ratio = 0\n",
    "# read i\n",
    "r = 0\n",
    "bias = 'up'\n",
    "mag = 0.06\n",
    "des = f\"3D_sampler_ratio{r}_bias{bias}_mag{mag}\"\n",
    "Ati_mean, Qti_mean, Ati_sd, Qti_sd = read_results(des)\n",
    "    \n",
    "# read j\n",
    "r = 0\n",
    "bias = 'down'\n",
    "mag = 0.06\n",
    "des = f\"3D_setting_ratio{r}_bias{bias}_mag{mag}\"\n",
    "Atj_mean, Qtj_mean, Atj_sd, Qtj_sd = read_results(des)\n",
    "    \n",
    "\n",
    "# Plot\n",
    "des = f\"3D_ratio{r}_mag{mag}\"\n",
    "plot_save_fairness(Ati_mean, Atj_mean, Qti_mean, Qtj_mean, des, True)\n",
    "plot_save_fairness_err(Ati_mean, Atj_mean, Qti_mean, Qtj_mean, Ati_sd, Qti_sd, Atj_sd, Qtj_sd, des, True)"
   ]
  },
  {
   "cell_type": "markdown",
   "id": "7e3ecb3e",
   "metadata": {},
   "source": [
    "Non-strategic setting\n",
    "\n",
    "Group $i$"
   ]
  },
  {
   "cell_type": "code",
   "execution_count": null,
   "id": "7cce38d2",
   "metadata": {
    "scrolled": true
   },
   "outputs": [],
   "source": [
    "# ratio = 0.1\n",
    "np.random.seed(42)\n",
    "r = 0.1\n",
    "bias = 'up'\n",
    "mag = 0.06\n",
    "des = f\"3D_nonstrat_ratio{r}_bias{bias}_mag{mag}\"\n",
    "At, Qt, At_sd, Qt_sd = simulation(Q,N,n,T,alpha,bias,mag,tp,r,sd=True,strategic=False,kde_x=kde_a,clf=clf)\n",
    "plot_save_single(At, Qt, des, save=True)\n",
    "plot_save_single_err(At, Qt, At_sd, Qt_sd, des, save=True,small=True)"
   ]
  },
  {
   "cell_type": "code",
   "execution_count": null,
   "id": "27bb71fb",
   "metadata": {
    "scrolled": true
   },
   "outputs": [],
   "source": [
    "# ratio = 0.05\n",
    "np.random.seed(42)\n",
    "r = 0.05\n",
    "bias = 'up'\n",
    "mag = 0.06\n",
    "des = f\"3D_nonstrat_ratio{r}_bias{bias}_mag{mag}\"\n",
    "At, Qt, At_sd, Qt_sd = simulation(Q,N,n,T,alpha,bias,mag,tp,r,sd=True,strategic=False,kde_x=kde_a,clf=clf)\n",
    "plot_save_single(At, Qt, des, save=True)\n",
    "plot_save_single_err(At, Qt, At_sd, Qt_sd, des, save=True,small=True)"
   ]
  },
  {
   "cell_type": "code",
   "execution_count": null,
   "id": "9461a3d4",
   "metadata": {
    "scrolled": true
   },
   "outputs": [],
   "source": [
    "# ratio = 0\n",
    "np.random.seed(42)\n",
    "r = 0\n",
    "bias = 'up'\n",
    "mag = 0.06\n",
    "des = f\"3D_nonstrat_ratio{r}_bias{bias}_mag{mag}\"\n",
    "At, Qt, At_sd, Qt_sd = simulation(Q,N,n,T,alpha,bias,mag,tp,r,sd=True,strategic=False,kde_x=kde_a,clf=clf)\n",
    "plot_save_single(At, Qt, des, save=True)\n",
    "plot_save_single_err(At, Qt, At_sd, Qt_sd, des, save=True,small=True)"
   ]
  },
  {
   "cell_type": "markdown",
   "id": "6b370590",
   "metadata": {},
   "source": [
    "Group $j$"
   ]
  },
  {
   "cell_type": "code",
   "execution_count": null,
   "id": "aa47eb07",
   "metadata": {
    "scrolled": true
   },
   "outputs": [],
   "source": [
    "# ratio = 0.1\n",
    "np.random.seed(42)\n",
    "r = 0.1\n",
    "bias = 'down'\n",
    "mag = 0.06\n",
    "des = f\"3D_nonstrat_ratio{r}_bias{bias}_mag{mag}\"\n",
    "At, Qt, At_sd, Qt_sd = simulation(Q,N,n,T,alpha,bias,mag,tp,r,sd=True,strategic=False,kde_x=kde_b,clf=clf)\n",
    "plot_save_single(At, Qt, des, save=True)\n",
    "plot_save_single_err(At, Qt, At_sd, Qt_sd, des, save=True,small=True)"
   ]
  },
  {
   "cell_type": "code",
   "execution_count": null,
   "id": "380c4399",
   "metadata": {
    "scrolled": true
   },
   "outputs": [],
   "source": [
    "# ratio = 0.05\n",
    "np.random.seed(42)\n",
    "r = 0.05\n",
    "bias = 'down'\n",
    "mag = 0.06\n",
    "des = f\"3D_nonstrat_ratio{r}_bias{bias}_mag{mag}\"\n",
    "At, Qt, At_sd, Qt_sd = simulation(Q,N,n,T,alpha,bias,mag,tp,r,sd=True,strategic=False,kde_x=kde_b,clf=clf)\n",
    "plot_save_single(At, Qt, des, save=True)\n",
    "plot_save_single_err(At, Qt, At_sd, Qt_sd, des, save=True,small=True)"
   ]
  },
  {
   "cell_type": "code",
   "execution_count": null,
   "id": "984a62bb",
   "metadata": {
    "scrolled": true
   },
   "outputs": [],
   "source": [
    "# ratio = 0\n",
    "np.random.seed(42)\n",
    "r = 0\n",
    "bias = 'down'\n",
    "mag = 0.06\n",
    "des = f\"3D_nonstrat_ratio{r}_bias{bias}_mag{mag}\"\n",
    "At, Qt, At_sd, Qt_sd = simulation(Q,N,n,T,alpha,bias,mag,tp,r,sd=True,strategic=False,kde_x=kde_b,clf=clf)\n",
    "plot_save_single(At, Qt, des, save=True)\n",
    "plot_save_single_err(At, Qt, At_sd, Qt_sd, des, save=True,small=True)"
   ]
  },
  {
   "cell_type": "markdown",
   "id": "f3367c20",
   "metadata": {},
   "source": [
    "Noisy setting"
   ]
  },
  {
   "cell_type": "markdown",
   "id": "d13f8294",
   "metadata": {},
   "source": [
    "Group $i$"
   ]
  },
  {
   "cell_type": "code",
   "execution_count": null,
   "id": "378e5299",
   "metadata": {
    "scrolled": true
   },
   "outputs": [],
   "source": [
    "# ratio = 0.1\n",
    "np.random.seed(42)\n",
    "r = 0.1\n",
    "bias = 'up'\n",
    "mag = 0.06\n",
    "des = f\"3D_noisy_setting_ratio{r}_bias{bias}_mag{mag}\"\n",
    "At, Qt, At_sd, Qt_sd = simulation(Q,N,n,T,alpha,bias,mag,tp,r,sd=True,noise=0.1,kde_x=kde_a,clf=clf)\n",
    "plot_save_single(At, Qt, des, save=True)\n",
    "plot_save_single_err(At, Qt, At_sd, Qt_sd, des, save=True,small=True)"
   ]
  },
  {
   "cell_type": "code",
   "execution_count": null,
   "id": "2b99838d",
   "metadata": {
    "scrolled": true
   },
   "outputs": [],
   "source": [
    "# ratio = 0.05\n",
    "np.random.seed(42)\n",
    "r = 0.05\n",
    "bias = 'up'\n",
    "mag = 0.06\n",
    "des = f\"3D_noisy_setting_ratio{r}_bias{bias}_mag{mag}\"\n",
    "At, Qt, At_sd, Qt_sd = simulation(Q,N,n,T,alpha,bias,mag,tp,r,sd=True,noise=0.1,kde_x=kde_a,clf=clf)\n",
    "plot_save_single(At, Qt, des, save=True)\n",
    "plot_save_single_err(At, Qt, At_sd, Qt_sd, des, save=True,small=True)"
   ]
  },
  {
   "cell_type": "code",
   "execution_count": null,
   "id": "57a27c57",
   "metadata": {
    "scrolled": true
   },
   "outputs": [],
   "source": [
    "# ratio = 0\n",
    "np.random.seed(42)\n",
    "r = 0\n",
    "bias = 'up'\n",
    "mag = 0.06\n",
    "des = f\"3D_noisy_setting_ratio{r}_bias{bias}_mag{mag}\"\n",
    "At, Qt, At_sd, Qt_sd = simulation(Q,N,n,T,alpha,bias,mag,tp,r,sd=True,noise=0.1,kde_x=kde_a,clf=clf)\n",
    "plot_save_single(At, Qt, des, save=True)\n",
    "plot_save_single_err(At, Qt, At_sd, Qt_sd, des, save=True,small=True)"
   ]
  },
  {
   "cell_type": "markdown",
   "id": "8fa774b3",
   "metadata": {},
   "source": [
    "Group $j$"
   ]
  },
  {
   "cell_type": "code",
   "execution_count": null,
   "id": "a7f996d0",
   "metadata": {
    "scrolled": true
   },
   "outputs": [],
   "source": [
    "# ratio = 0.1\n",
    "np.random.seed(42)\n",
    "r = 0.1\n",
    "bias = 'down'\n",
    "mag = 0.06\n",
    "des = f\"3D_noisy_setting_ratio{r}_bias{bias}_mag{mag}\"\n",
    "At, Qt, At_sd, Qt_sd = simulation(Q,N,n,T,alpha,bias,mag,tp,r,sd=True,noise=0.1,kde_x=kde_a,clf=clf)\n",
    "plot_save_single(At, Qt, des, save=True)\n",
    "plot_save_single_err(At, Qt, At_sd, Qt_sd, des, save=True,small=True)"
   ]
  },
  {
   "cell_type": "code",
   "execution_count": null,
   "id": "4d6783a5",
   "metadata": {
    "scrolled": true
   },
   "outputs": [],
   "source": [
    "# ratio = 0.05\n",
    "np.random.seed(42)\n",
    "r = 0.05\n",
    "bias = 'down'\n",
    "mag = 0.06\n",
    "des = f\"3D_noisy_setting_ratio{r}_bias{bias}_mag{mag}\"\n",
    "At, Qt, At_sd, Qt_sd = simulation(Q,N,n,T,alpha,bias,mag,tp,r,sd=True,noise=0.1,kde_x=kde_a,clf=clf)\n",
    "plot_save_single(At, Qt, des, save=True)\n",
    "plot_save_single_err(At, Qt, At_sd, Qt_sd, des, save=True,small=True)"
   ]
  },
  {
   "cell_type": "code",
   "execution_count": null,
   "id": "883e9da4",
   "metadata": {
    "scrolled": true
   },
   "outputs": [],
   "source": [
    "# ratio = 0\n",
    "np.random.seed(42)\n",
    "r = 0\n",
    "bias = 'down'\n",
    "mag = 0.06\n",
    "des = f\"3D_noisy_setting_ratio{r}_bias{bias}_mag{mag}\"\n",
    "At, Qt, At_sd, Qt_sd = simulation(Q,N,n,T,alpha,bias,mag,tp,r,sd=True,noise=0.1,kde_x=kde_a,clf=clf)\n",
    "plot_save_single(At, Qt, des, save=True)\n",
    "plot_save_single_err(At, Qt, At_sd, Qt_sd, des, save=True,small=True)"
   ]
  }
 ],
 "metadata": {
  "kernelspec": {
   "display_name": "Python 3 (ipykernel)",
   "language": "python",
   "name": "python3"
  },
  "language_info": {
   "codemirror_mode": {
    "name": "ipython",
    "version": 3
   },
   "file_extension": ".py",
   "mimetype": "text/x-python",
   "name": "python",
   "nbconvert_exporter": "python",
   "pygments_lexer": "ipython3",
   "version": "3.12.2"
  }
 },
 "nbformat": 4,
 "nbformat_minor": 5
}
