{
 "cells": [
  {
   "cell_type": "code",
   "execution_count": 1,
   "id": "9332611f",
   "metadata": {},
   "outputs": [],
   "source": [
    "# Import all utility functions\n",
    "from utility import *"
   ]
  },
  {
   "cell_type": "markdown",
   "id": "34d716b6",
   "metadata": {},
   "source": [
    "### Uniform/Linear Data: Dynamics of at and qt and Delta\n",
    "\n",
    "\n",
    "- Note: It may take a long time to run 100 trials.\n",
    "- Note: slight quantitative differences may exist because of deprecated versions of sklearn implement logistic classifier, but the qualitative results should remain same.\n",
    "\n"
   ]
  },
  {
   "cell_type": "code",
   "execution_count": 2,
   "id": "72337589",
   "metadata": {},
   "outputs": [],
   "source": [
    "n = 100\n",
    "T = 15\n",
    "Q = np.array([[5,0], [0,5]])\n",
    "N = 2000\n",
    "alpha = 0.5\n",
    "tp=0"
   ]
  },
  {
   "cell_type": "markdown",
   "id": "38717014",
   "metadata": {},
   "source": [
    "Figure 2"
   ]
  },
  {
   "cell_type": "code",
   "execution_count": null,
   "id": "912a57e4",
   "metadata": {
    "scrolled": true
   },
   "outputs": [],
   "source": [
    "np.random.seed(42)\n",
    "r = 0.1\n",
    "bias = 'up'\n",
    "mag = 0.1\n",
    "des = f\"F2\"\n",
    "At, Qt= simulation(Q,N,n,T,alpha,bias,mag,1,r,plot=[0,5,14])"
   ]
  },
  {
   "cell_type": "markdown",
   "id": "d6bb2fe5",
   "metadata": {},
   "source": [
    "All human"
   ]
  },
  {
   "cell_type": "code",
   "execution_count": null,
   "id": "3bc81e9d",
   "metadata": {
    "scrolled": true
   },
   "outputs": [],
   "source": [
    "np.random.seed(42)\n",
    "r = 0.1\n",
    "bias = 'up'\n",
    "mag = 0.1\n",
    "des = f\"UniformLinear_all_human\"\n",
    "At, Qt, At_sd, Qt_sd = simulation(Q,N,n,T,alpha,bias,mag,tp,r,sd=True, only_human=True)\n",
    "plot_save_single(At, Qt, des,True)\n",
    "plot_save_single_err(At, Qt, At_sd, Qt_sd, des,True)"
   ]
  },
  {
   "cell_type": "markdown",
   "id": "fa38e7a4",
   "metadata": {},
   "source": [
    "Group $i$"
   ]
  },
  {
   "cell_type": "code",
   "execution_count": null,
   "id": "db97bc3f",
   "metadata": {
    "scrolled": true
   },
   "outputs": [],
   "source": [
    "# ratio = 0.1\n",
    "np.random.seed(42)\n",
    "r = 0.1\n",
    "bias = 'up'\n",
    "mag = 0.1\n",
    "des = f\"dynamic_setting1_ratio{r}_bias{bias}_mag{mag}\"\n",
    "At, Qt, At_sd, Qt_sd = simulation(Q,N,n,T,alpha,tp=0,sd=True)\n",
    "plot_save_single(At, Qt, des,True)\n",
    "plot_save_single_err(At, Qt, At_sd, Qt_sd, des,True)"
   ]
  },
  {
   "cell_type": "code",
   "execution_count": null,
   "id": "8a3dd9d3",
   "metadata": {
    "scrolled": true
   },
   "outputs": [],
   "source": [
    "# ratio = 0.05\n",
    "np.random.seed(42)\n",
    "r = 0.05\n",
    "bias = 'up'\n",
    "mag = 0.1\n",
    "des = f\"dynamic_setting1_ratio{r}_bias{bias}_mag{mag}\"\n",
    "np.random.seed(42)\n",
    "At, Qt, At_sd, Qt_sd = simulation(Q,N,n,T,alpha,ratio = r,sd=True)\n",
    "plot_save_single(At, Qt, des, True)\n",
    "plot_save_single_err(At, Qt, At_sd, Qt_sd, des, True)"
   ]
  },
  {
   "cell_type": "code",
   "execution_count": null,
   "id": "ac9d9dc1",
   "metadata": {
    "scrolled": true
   },
   "outputs": [],
   "source": [
    "# ratio = 0\n",
    "np.random.seed(42)\n",
    "r = 0\n",
    "bias = 'up'\n",
    "mag = 0.1\n",
    "des = f\"dynamic_setting1_ratio{r}_bias{bias}_mag{mag}\"\n",
    "At, Qt, At_sd, Qt_sd = simulation(Q,N,n,T,alpha,ratio = r,sd=True)\n",
    "plot_save_single(At, Qt, des, True)\n",
    "plot_save_single_err(At, Qt, At_sd, Qt_sd, des, True)"
   ]
  },
  {
   "cell_type": "markdown",
   "id": "e15767c8",
   "metadata": {},
   "source": [
    "Group $j$"
   ]
  },
  {
   "cell_type": "code",
   "execution_count": null,
   "id": "e7f6ee3f",
   "metadata": {
    "scrolled": true
   },
   "outputs": [],
   "source": [
    "# ratio 0.1\n",
    "np.random.seed(42)\n",
    "r = 0.5\n",
    "bias = 'down'\n",
    "mag = 0.1\n",
    "des = f\"dynamic_setting1_ratio{r}_bias{bias}_mag{mag}\"\n",
    "At, Qt, At_sd, Qt_sd = simulation(Q,N,n,T,alpha,'down',ratio = r,sd=True)\n",
    "plot_save_single(At, Qt, des, True)\n",
    "plot_save_single_err(At, Qt, At_sd, Qt_sd, des,True)"
   ]
  },
  {
   "cell_type": "code",
   "execution_count": null,
   "id": "0400a83a",
   "metadata": {
    "scrolled": true
   },
   "outputs": [],
   "source": [
    "# ratio 0.05\n",
    "np.random.seed(42)\n",
    "r = 0.05\n",
    "bias = 'down'\n",
    "mag = 0.1\n",
    "des = f\"dynamic_setting1_ratio{r}_bias{bias}_mag{mag}\"\n",
    "At, Qt, At_sd, Qt_sd = simulation(Q,N,n,T,alpha,'down',ratio = r,sd=True)\n",
    "plot_save_single(At, Qt, des, True)\n",
    "plot_save_single_err(At, Qt, At_sd, Qt_sd, des, True)"
   ]
  },
  {
   "cell_type": "code",
   "execution_count": null,
   "id": "dff6ba55",
   "metadata": {
    "scrolled": true
   },
   "outputs": [],
   "source": [
    "# ratio 0\n",
    "np.random.seed(42)\n",
    "T = 15\n",
    "r = 0\n",
    "bias = 'down'\n",
    "mag = 0.1\n",
    "des = f\"dynamic_setting1_ratio{r}_bias{bias}_mag{mag}\"\n",
    "At, Qt, At_sd, Qt_sd = simulation(Q,N,n,T,alpha,'down',ratio = r,sd=True)\n",
    "plot_save_single(At, Qt, des, True)\n",
    "plot_save_single_err(At, Qt, At_sd, Qt_sd, des,True)"
   ]
  },
  {
   "cell_type": "markdown",
   "id": "6ea8d022",
   "metadata": {},
   "source": [
    "Refined retraining process for $i$"
   ]
  },
  {
   "cell_type": "code",
   "execution_count": null,
   "id": "aaa48b00",
   "metadata": {
    "scrolled": true
   },
   "outputs": [],
   "source": [
    "# ratio 0.1\n",
    "np.random.seed(42)\n",
    "r = 0.1\n",
    "bias = 'up'\n",
    "mag = 0.1\n",
    "des = f\"dynamic_sampler1_ratio{r}_bias{bias}_mag{mag}\"\n",
    "At, Qt, At_sd, Qt_sd = simulation(Q,N,n,T,alpha,bias,ratio = r,sd=True, refined = True)\n",
    "plot_save_single(At, Qt, des, True)\n",
    "plot_save_single_err(At, Qt, At_sd, Qt_sd, des,True)"
   ]
  },
  {
   "cell_type": "code",
   "execution_count": null,
   "id": "884bccd2",
   "metadata": {
    "scrolled": true
   },
   "outputs": [],
   "source": [
    "# ratio 0.05\n",
    "np.random.seed(42)\n",
    "r = 0.05\n",
    "bias = 'up'\n",
    "mag = 0.1\n",
    "des = f\"dynamic_sampler1_ratio{r}_bias{bias}_mag{mag}\"\n",
    "At, Qt, At_sd, Qt_sd = simulation(Q,N,n,T,alpha,bias,ratio = r,sd=True, refined = True)\n",
    "plot_save_single(At, Qt, des, True)\n",
    "plot_save_single_err(At, Qt, At_sd, Qt_sd, des,True)"
   ]
  },
  {
   "cell_type": "code",
   "execution_count": null,
   "id": "848023fc",
   "metadata": {
    "scrolled": true
   },
   "outputs": [],
   "source": [
    "# ratio 0\n",
    "np.random.seed(42)\n",
    "r = 0\n",
    "bias = 'up'\n",
    "mag = 0.1\n",
    "des = f\"dynamic_sampler1_ratio{r}_bias{bias}_mag{mag}\"\n",
    "At, Qt, At_sd, Qt_sd = simulation(Q,N,n,T,alpha,bias,ratio = r,sd=True, refined = True)\n",
    "plot_save_single(At, Qt, des, True)\n",
    "plot_save_single_err(At, Qt, At_sd, Qt_sd, des,True)"
   ]
  },
  {
   "cell_type": "markdown",
   "id": "9961e0b8",
   "metadata": {},
   "source": [
    "Refined retraining process for $j$"
   ]
  },
  {
   "cell_type": "code",
   "execution_count": null,
   "id": "123811bf",
   "metadata": {
    "scrolled": true
   },
   "outputs": [],
   "source": [
    "# ratio 0.1\n",
    "np.random.seed(42)\n",
    "r = 0.1\n",
    "bias = 'down'\n",
    "mag = 0.1\n",
    "des = f\"dynamic_sampler1_ratio{r}_bias{bias}_mag{mag}\"\n",
    "At, Qt, At_sd, Qt_sd = simulation(Q,N,n,T,alpha,bias,ratio = r,sd=True, refined = True)\n",
    "plot_save_single(At, Qt, des, True)\n",
    "plot_save_single_err(At, Qt, At_sd, Qt_sd, des,True)"
   ]
  },
  {
   "cell_type": "code",
   "execution_count": null,
   "id": "ca9086ed",
   "metadata": {
    "scrolled": true
   },
   "outputs": [],
   "source": [
    "# ratio 0.05\n",
    "np.random.seed(42)\n",
    "r = 0.05\n",
    "bias = 'down'\n",
    "mag = 0.1\n",
    "des = f\"dynamic_sampler1_ratio{r}_bias{bias}_mag{mag}\"\n",
    "At, Qt, At_sd, Qt_sd = simulation(Q,N,n,T,alpha,bias,ratio = r,sd=True, refined = True)\n",
    "plot_save_single(At, Qt, des, True)\n",
    "plot_save_single_err(At, Qt, At_sd, Qt_sd, des,True)"
   ]
  },
  {
   "cell_type": "code",
   "execution_count": null,
   "id": "fcbc3445",
   "metadata": {
    "scrolled": true
   },
   "outputs": [],
   "source": [
    "# ratio 0\n",
    "np.random.seed(42)\n",
    "r = 0\n",
    "bias = 'down'\n",
    "mag = 0.1\n",
    "des = f\"dynamic_sampler1_ratio{r}_bias{bias}_mag{mag}\"\n",
    "At, Qt, At_sd, Qt_sd = simulation(Q,N,n,T,alpha,bias,ratio = r,sd=True, refined = True)\n",
    "plot_save_single(At, Qt, des, True)\n",
    "plot_save_single_err(At, Qt, At_sd, Qt_sd, des,True)"
   ]
  },
  {
   "cell_type": "markdown",
   "id": "fac0e0b2",
   "metadata": {},
   "source": [
    "Unfairness and bias"
   ]
  },
  {
   "cell_type": "code",
   "execution_count": null,
   "id": "d4d645e9",
   "metadata": {
    "scrolled": true
   },
   "outputs": [],
   "source": [
    "# ratio = 0.1\n",
    "# read i\n",
    "r = 0.1\n",
    "bias = 'up'\n",
    "mag = 0.1\n",
    "des = f\"dynamic_sampler1_ratio{r}_bias{bias}_mag{mag}\"\n",
    "Ati_mean, Qti_mean, Ati_sd, Qti_sd = read_results(des)\n",
    "    \n",
    "# read j\n",
    "r = 0.1\n",
    "bias = 'down'\n",
    "mag = 0.1\n",
    "des = f\"dynamic_setting1_ratio{r}_bias{bias}_mag{mag}\"\n",
    "Atj_mean, Qtj_mean, Atj_sd, Qtj_sd = read_results(des)\n",
    "    \n",
    "\n",
    "# Plot\n",
    "des = f\"setting1_ratio{r}_mag{mag}\"\n",
    "plot_save_fairness(Ati_mean, Atj_mean, Qti_mean, Qtj_mean, des, True)\n",
    "plot_save_fairness_err(Ati_mean, Atj_mean, Qti_mean, Qtj_mean, Ati_sd, Qti_sd, Atj_sd, Qtj_sd, des, True)"
   ]
  },
  {
   "cell_type": "code",
   "execution_count": null,
   "id": "a3437fbe",
   "metadata": {
    "scrolled": true
   },
   "outputs": [],
   "source": [
    "# ratio = 0.1\n",
    "# read i\n",
    "r = 0.05\n",
    "bias = 'up'\n",
    "mag = 0.1\n",
    "des = f\"dynamic_sampler1_ratio{r}_bias{bias}_mag{mag}\"\n",
    "Ati_mean, Qti_mean, Ati_sd, Qti_sd = read_results(des)\n",
    "    \n",
    "# read j\n",
    "r = 0.05\n",
    "bias = 'down'\n",
    "mag = 0.1\n",
    "des = f\"dynamic_setting1_ratio{r}_bias{bias}_mag{mag}\"\n",
    "Atj_mean, Qtj_mean, Atj_sd, Qtj_sd = read_results(des)\n",
    "    \n",
    "\n",
    "# Plot\n",
    "des = f\"setting1_ratio{r}_mag{mag}\"\n",
    "plot_save_fairness(Ati_mean, Atj_mean, Qti_mean, Qtj_mean, des, True)\n",
    "plot_save_fairness_err(Ati_mean, Atj_mean, Qti_mean, Qtj_mean, Ati_sd, Qti_sd, Atj_sd, Qtj_sd, des, True)"
   ]
  },
  {
   "cell_type": "code",
   "execution_count": null,
   "id": "1236ede1",
   "metadata": {
    "scrolled": true
   },
   "outputs": [],
   "source": [
    "# ratio = 0.1\n",
    "# read i\n",
    "r = 0\n",
    "bias = 'up'\n",
    "mag = 0.1\n",
    "des = f\"dynamic_sampler1_ratio{r}_bias{bias}_mag{mag}\"\n",
    "Ati_mean, Qti_mean, Ati_sd, Qti_sd = read_results(des)\n",
    "    \n",
    "# read j\n",
    "r = 0\n",
    "bias = 'down'\n",
    "mag = 0.1\n",
    "des = f\"dynamic_setting1_ratio{r}_bias{bias}_mag{mag}\"\n",
    "Atj_mean, Qtj_mean, Atj_sd, Qtj_sd = read_results(des)\n",
    "\n",
    "l = len(Ati_mean)\n",
    "Atj_mean = Atj_mean[:l]\n",
    "Qtj_mean = Qtj_mean[:l]\n",
    "Atj_sd = Atj_sd[:l]\n",
    "Qtj_sd = Qtj_sd[:l]\n",
    "\n",
    "# Plot\n",
    "des = f\"setting1_ratio{r}_mag{mag}\"\n",
    "plot_save_fairness(Ati_mean, Atj_mean, Qti_mean, Qtj_mean, des, True)\n",
    "plot_save_fairness_err(Ati_mean, Atj_mean, Qti_mean, Qtj_mean, Ati_sd, Qti_sd, Atj_sd, Qtj_sd, des, True)"
   ]
  },
  {
   "cell_type": "markdown",
   "id": "7e3ecb3e",
   "metadata": {},
   "source": [
    "Non-strategic setting\n",
    "\n",
    "Group $i$"
   ]
  },
  {
   "cell_type": "code",
   "execution_count": null,
   "id": "7cce38d2",
   "metadata": {
    "scrolled": true
   },
   "outputs": [],
   "source": [
    "# ratio = 0.1\n",
    "np.random.seed(42)\n",
    "r = 0.1\n",
    "bias = 'up'\n",
    "mag = 0.1\n",
    "des = f\"nonstrat_setting1_ratio{r}_bias{bias}_mag{mag}\"\n",
    "np.random.seed(42)\n",
    "At, Qt, At_sd, Qt_sd = simulation(Q,N,n,T,alpha,ratio=r,sd=True,strategic=False)\n",
    "plot_save_single(At, Qt, des,True)\n",
    "plot_save_single_err(At, Qt, At_sd, Qt_sd, des,True)"
   ]
  },
  {
   "cell_type": "code",
   "execution_count": null,
   "id": "27bb71fb",
   "metadata": {
    "scrolled": true
   },
   "outputs": [],
   "source": [
    "# ratio = 0.05\n",
    "np.random.seed(42)\n",
    "r = 0.05\n",
    "bias = 'up'\n",
    "mag = 0.1\n",
    "des = f\"nonstrat_setting1_ratio{r}_bias{bias}_mag{mag}\"\n",
    "np.random.seed(42)\n",
    "At, Qt, At_sd, Qt_sd = simulation(Q,N,n,T,alpha,ratio=r,sd=True,strategic=False)\n",
    "plot_save_single(At, Qt, des,True)\n",
    "plot_save_single_err(At, Qt, At_sd, Qt_sd, des,True)"
   ]
  },
  {
   "cell_type": "code",
   "execution_count": null,
   "id": "9461a3d4",
   "metadata": {
    "scrolled": true
   },
   "outputs": [],
   "source": [
    "# ratio = 0\n",
    "np.random.seed(42)\n",
    "r = 0\n",
    "bias = 'up'\n",
    "mag = 0.1\n",
    "des = f\"nonstrat_setting1_ratio{r}_bias{bias}_mag{mag}\"\n",
    "np.random.seed(42)\n",
    "At, Qt, At_sd, Qt_sd = simulation(Q,N,n,T,alpha,ratio=r,sd=True,strategic=False)\n",
    "plot_save_single(At, Qt, des,True)\n",
    "plot_save_single_err(At, Qt, At_sd, Qt_sd, des,True)"
   ]
  },
  {
   "cell_type": "markdown",
   "id": "6b370590",
   "metadata": {},
   "source": [
    "Group $j$"
   ]
  },
  {
   "cell_type": "code",
   "execution_count": null,
   "id": "aa47eb07",
   "metadata": {
    "scrolled": true
   },
   "outputs": [],
   "source": [
    "# ratio = 0.1\n",
    "np.random.seed(42)\n",
    "r = 0.1\n",
    "bias = 'down'\n",
    "mag = 0.1\n",
    "des = f\"nonstrat_setting1_ratio{r}_bias{bias}_mag{mag}\"\n",
    "np.random.seed(42)\n",
    "At, Qt, At_sd, Qt_sd = simulation(Q,N,n,T,alpha,bias=bias,ratio=r,sd=True,strategic=False)\n",
    "plot_save_single(At, Qt, des,True)\n",
    "plot_save_single_err(At, Qt, At_sd, Qt_sd, des,True)"
   ]
  },
  {
   "cell_type": "code",
   "execution_count": null,
   "id": "380c4399",
   "metadata": {
    "scrolled": true
   },
   "outputs": [],
   "source": [
    "# ratio = 0.05\n",
    "np.random.seed(42)\n",
    "r = 0.05\n",
    "bias = 'down'\n",
    "mag = 0.1\n",
    "des = f\"nonstrat_setting1_ratio{r}_bias{bias}_mag{mag}\"\n",
    "np.random.seed(42)\n",
    "At, Qt, At_sd, Qt_sd = simulation(Q,N,n,T,alpha,ratio=r,bias=bias,sd=True,strategic=False)\n",
    "plot_save_single(At, Qt, des,True)\n",
    "plot_save_single_err(At, Qt, At_sd, Qt_sd, des,True)"
   ]
  },
  {
   "cell_type": "code",
   "execution_count": null,
   "id": "984a62bb",
   "metadata": {
    "scrolled": true
   },
   "outputs": [],
   "source": [
    "# ratio = 0\n",
    "np.random.seed(42)\n",
    "r = 0\n",
    "bias = 'down'\n",
    "mag = 0.1\n",
    "des = f\"nonstrat_setting1_ratio{r}_bias{bias}_mag{mag}\"\n",
    "np.random.seed(42)\n",
    "At, Qt, At_sd, Qt_sd = simulation(Q,N,n,T,alpha,bias=bias,ratio=r,sd=True,strategic=False)\n",
    "plot_save_single(At, Qt, des,True)\n",
    "plot_save_single_err(At, Qt, At_sd, Qt_sd, des,True)"
   ]
  },
  {
   "cell_type": "markdown",
   "id": "419dde14",
   "metadata": {},
   "source": [
    "No systematic bias setting"
   ]
  },
  {
   "cell_type": "code",
   "execution_count": null,
   "id": "e0340c19",
   "metadata": {
    "scrolled": true
   },
   "outputs": [],
   "source": [
    "# ratio = 0.1\n",
    "np.random.seed(42)\n",
    "r = 0.1\n",
    "bias = 'up'\n",
    "mag = 0\n",
    "des = f\"dynamic_setting1_ratio{r}_bias{bias}_mag{mag}\"\n",
    "At, Qt, At_sd, Qt_sd = simulation(Q,N,n,T,alpha,sd=True)\n",
    "plot_save_single(At, Qt, des,True)\n",
    "plot_save_single_err(At, Qt, At_sd, Qt_sd, des,True)"
   ]
  },
  {
   "cell_type": "code",
   "execution_count": null,
   "id": "4a34f3da",
   "metadata": {
    "scrolled": true
   },
   "outputs": [],
   "source": [
    "# ratio = 0.05\n",
    "np.random.seed(42)\n",
    "r = 0.05\n",
    "bias = 'up'\n",
    "mag = 0\n",
    "des = f\"dynamic_setting1_ratio{r}_bias{bias}_mag{mag}\"\n",
    "At, Qt, At_sd, Qt_sd = simulation(Q,N,n,T,alpha,sd=True)\n",
    "plot_save_single(At, Qt, des,True)\n",
    "plot_save_single_err(At, Qt, At_sd, Qt_sd, des,True)"
   ]
  },
  {
   "cell_type": "code",
   "execution_count": null,
   "id": "6d88eb22",
   "metadata": {
    "scrolled": true
   },
   "outputs": [],
   "source": [
    "# ratio = 0\n",
    "np.random.seed(42)\n",
    "r = 0\n",
    "bias = 'up'\n",
    "mag = 0\n",
    "des = f\"dynamic_setting1_ratio{r}_bias{bias}_mag{mag}\"\n",
    "At, Qt, At_sd, Qt_sd = simulation(Q,N,n,T,alpha,sd=True)\n",
    "plot_save_single(At, Qt, des,True)\n",
    "plot_save_single_err(At, Qt, At_sd, Qt_sd, des,True)"
   ]
  },
  {
   "cell_type": "markdown",
   "id": "f3367c20",
   "metadata": {},
   "source": [
    "Noisy setting"
   ]
  },
  {
   "cell_type": "markdown",
   "id": "d13f8294",
   "metadata": {},
   "source": [
    "Group $i$"
   ]
  },
  {
   "cell_type": "code",
   "execution_count": null,
   "id": "378e5299",
   "metadata": {
    "scrolled": true
   },
   "outputs": [],
   "source": [
    "# ratio = 0.1\n",
    "np.random.seed(42)\n",
    "r = 0.1\n",
    "bias = 'up'\n",
    "mag = 0.1\n",
    "des = f\"noisy_setting1_ratio{r}_bias{bias}_mag{mag}\"\n",
    "At, Qt, At_sd, Qt_sd = simulation(Q,N,n,T,alpha,sd=True,noise=0.1)\n",
    "plot_save_single(At, Qt, des,True)\n",
    "plot_save_single_err(At, Qt, At_sd, Qt_sd, des,True)"
   ]
  },
  {
   "cell_type": "code",
   "execution_count": null,
   "id": "2b99838d",
   "metadata": {
    "scrolled": true
   },
   "outputs": [],
   "source": [
    "# ratio = 0.05\n",
    "np.random.seed(42)\n",
    "r = 0.05\n",
    "bias = 'up'\n",
    "mag = 0.1\n",
    "des = f\"noisy_setting1_ratio{r}_bias{bias}_mag{mag}\"\n",
    "At, Qt, At_sd, Qt_sd = simulation(Q,N,n,T,alpha,sd=True,noise=0.1)\n",
    "plot_save_single(At, Qt, des,True)\n",
    "plot_save_single_err(At, Qt, At_sd, Qt_sd, des,True)"
   ]
  },
  {
   "cell_type": "code",
   "execution_count": null,
   "id": "57a27c57",
   "metadata": {
    "scrolled": true
   },
   "outputs": [],
   "source": [
    "# ratio = 0\n",
    "np.random.seed(42)\n",
    "r = 0\n",
    "bias = 'up'\n",
    "mag = 0.1\n",
    "des = f\"noisy_setting1_ratio{r}_bias{bias}_mag{mag}\"\n",
    "At, Qt, At_sd, Qt_sd = simulation(Q,N,n,T,alpha,sd=True,noise=0.1)\n",
    "plot_save_single(At, Qt, des,True)\n",
    "plot_save_single_err(At, Qt, At_sd, Qt_sd, des,True)"
   ]
  },
  {
   "cell_type": "markdown",
   "id": "8fa774b3",
   "metadata": {},
   "source": [
    "Group $j$"
   ]
  },
  {
   "cell_type": "code",
   "execution_count": null,
   "id": "a7f996d0",
   "metadata": {
    "scrolled": true
   },
   "outputs": [],
   "source": [
    "# ratio = 0.1\n",
    "np.random.seed(42)\n",
    "r = 0.1\n",
    "bias = 'down'\n",
    "mag = 0.1\n",
    "des = f\"noisy_setting1_ratio{r}_bias{bias}_mag{mag}\"\n",
    "At, Qt, At_sd, Qt_sd = simulation(Q,N,n,T,alpha,bias=bias,sd=True,noise=0.1)\n",
    "plot_save_single(At, Qt, des,True)\n",
    "plot_save_single_err(At, Qt, At_sd, Qt_sd, des,True)"
   ]
  },
  {
   "cell_type": "code",
   "execution_count": null,
   "id": "4d6783a5",
   "metadata": {
    "scrolled": true
   },
   "outputs": [],
   "source": [
    "# ratio = 0.05\n",
    "np.random.seed(42)\n",
    "r = 0.05\n",
    "bias = 'down'\n",
    "mag = 0.1\n",
    "des = f\"noisy_setting1_ratio{r}_bias{bias}_mag{mag}\"\n",
    "At, Qt, At_sd, Qt_sd = simulation(Q,N,n,T,alpha,bias=bias,sd=True,noise=0.1)\n",
    "plot_save_single(At, Qt, des,True)\n",
    "plot_save_single_err(At, Qt, At_sd, Qt_sd, des,True)"
   ]
  },
  {
   "cell_type": "code",
   "execution_count": null,
   "id": "883e9da4",
   "metadata": {
    "scrolled": true
   },
   "outputs": [],
   "source": [
    "# ratio = 0\n",
    "np.random.seed(42)\n",
    "r = 0\n",
    "bias = 'down'\n",
    "mag = 0.1\n",
    "des = f\"noisy_setting1_ratio{r}_bias{bias}_mag{mag}\"\n",
    "At, Qt, At_sd, Qt_sd = simulation(Q,N,n,T,alpha,bias=bias,sd=True,noise=0.1)\n",
    "plot_save_single(At, Qt, des,True)\n",
    "plot_save_single_err(At, Qt, At_sd, Qt_sd, des,True)"
   ]
  }
 ],
 "metadata": {
  "kernelspec": {
   "display_name": "Python 3 (ipykernel)",
   "language": "python",
   "name": "python3"
  },
  "language_info": {
   "codemirror_mode": {
    "name": "ipython",
    "version": 3
   },
   "file_extension": ".py",
   "mimetype": "text/x-python",
   "name": "python",
   "nbconvert_exporter": "python",
   "pygments_lexer": "ipython3",
   "version": "3.12.2"
  }
 },
 "nbformat": 4,
 "nbformat_minor": 5
}
